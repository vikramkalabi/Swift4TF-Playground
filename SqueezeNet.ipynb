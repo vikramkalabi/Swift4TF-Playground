{
  "nbformat": 4,
  "nbformat_minor": 0,
  "metadata": {
    "colab": {
      "name": "SqueezeNet-ResNet-Swift",
      "version": "0.3.2",
      "provenance": [],
      "collapsed_sections": [],
      "include_colab_link": true
    },
    "kernelspec": {
      "display_name": "Swift",
      "language": "swift",
      "name": "swift"
    },
    "language_info": {
      "file_extension": ".swift",
      "mimetype": "text/x-swift",
      "name": "swift",
      "version": ""
    }
  },
  "cells": [
    {
      "cell_type": "markdown",
      "metadata": {
        "id": "view-in-github",
        "colab_type": "text"
      },
      "source": [
        "<a href=\"https://colab.research.google.com/github/vikramkalabi/Swift4TF-Playground/blob/master/SqueezeNet.ipynb\" target=\"_parent\"><img src=\"https://colab.research.google.com/assets/colab-badge.svg\" alt=\"Open In Colab\"/></a>"
      ]
    },
    {
      "cell_type": "code",
      "metadata": {
        "id": "YLxpUKe1RLfv",
        "colab_type": "code",
        "colab": {}
      },
      "source": [
        "import TensorFlow"
      ],
      "execution_count": 0,
      "outputs": []
    },
    {
      "cell_type": "code",
      "metadata": {
        "id": "Tg-0BScVicTz",
        "colab_type": "code",
        "colab": {}
      },
      "source": [
        "public struct Fire : Layer {\n",
        "    \n",
        "    var convSqueeze: Conv2D<Float>\n",
        "    var conv1Expand: Conv2D<Float>\n",
        "    var conv3Expand: Conv2D<Float>\n",
        "    \n",
        "    public init (in_channels:Int, squeeze: Int, expand: Int) {\n",
        "        \n",
        "        convSqueeze = Conv2D<Float>(\n",
        "            filterShape: (1, 1, in_channels, squeeze),\n",
        "            activation: relu\n",
        "        )\n",
        "        conv1Expand = Conv2D<Float>(\n",
        "            filterShape: (1, 1, squeeze, expand),\n",
        "            activation: relu\n",
        "        )\n",
        "        conv3Expand = Conv2D<Float>(\n",
        "            filterShape: (3, 3, squeeze, expand), \n",
        "            padding: .same,\n",
        "            activation: relu\n",
        "        )\n",
        "        \n",
        "    }\n",
        "    \n",
        "    @differentiable\n",
        "    public func callAsFunction(_ input: Tensor<Float>) -> Tensor<Float> {\n",
        "        let squeezed = convSqueeze(input)\n",
        "        let expand1 = conv1Expand(squeezed)\n",
        "        let expand3 = conv3Expand(squeezed)\n",
        "\n",
        "        return expand1.concatenated(with: expand3, alongAxis: -1)\n",
        "    }\n",
        "}"
      ],
      "execution_count": 0,
      "outputs": []
    },
    {
      "cell_type": "code",
      "metadata": {
        "id": "a08cZp_Ko0ZA",
        "colab_type": "code",
        "colab": {}
      },
      "source": [
        "func testFireModule(){\n",
        "    let x = Tensor<Float>(randomUniform: [10, 28, 28, 32])\n",
        "    let fire = Fire(in_channels: 32, squeeze: 16, expand: 64)\n",
        "    let out  = try! fire(x)\n",
        "    assert(out.shape == [10, 28, 28, 128])\n",
        "}\n",
        "\n",
        "testFireModule()"
      ],
      "execution_count": 0,
      "outputs": []
    },
    {
      "cell_type": "code",
      "metadata": {
        "id": "uXxiQFsvrO7O",
        "colab_type": "code",
        "colab": {}
      },
      "source": [
        "public struct SqueezeNet: Layer {\n",
        "    \n",
        "    // 32x32x3 -> 15x15x64\n",
        "    var conv1 = Conv2D<Float>(\n",
        "        filterShape: (3, 3, 3, 64), \n",
        "        padding: .valid,\n",
        "        activation: relu \n",
        "    )\n",
        "    // 15x15x64 -> 15x15x128\n",
        "    var fire1 = Fire(in_channels: 64, squeeze: 16, expand: 64)\n",
        "    // 15x15x128 -> 15x15x128\n",
        "    var fire2 = Fire(in_channels: 64*2, squeeze: 16, expand: 64)\n",
        "    // 15x15x128 -> 7x7x128\n",
        "    var maxPool = MaxPool2D<Float>(poolSize:(3, 3), strides: (2, 2))\n",
        "    // 7x7x128 ->  7x7x256\n",
        "    var fire3 = Fire(in_channels: 64*2, squeeze:32, expand: 128)\n",
        "    // 7x7x256 ->  7x7x256\n",
        "    var fire4 = Fire(in_channels: 128*2, squeeze: 32, expand: 128)\n",
        "    var drop = Dropout<Float>(probability: 0.5)\n",
        "    // 7x7x256 ->  7x7xnumClasses\n",
        "    var reduce: Conv2D<Float> \n",
        "    // 7x7xnumClasses ->  numClasses\n",
        "    var globalPool = GlobalAvgPool2D<Float>()\n",
        "    \n",
        "    public init(_ numClasses: Int){\n",
        "        reduce = Conv2D<Float>(\n",
        "            filterShape: (7, 7, 256, numClasses),\n",
        "            activation: relu\n",
        "        )\n",
        "    } \n",
        "    \n",
        "    @differentiable\n",
        "    public func callAsFunction(_ input: Tensor<Float>) -> Tensor<Float> {\n",
        "        let convolved = conv1(input)\n",
        "        let fired1 = convolved.sequenced(through: fire1, fire2, maxPool)\n",
        "        let fired2 = fired1.sequenced(through: fire3, fire4)\n",
        "        let prediction = fired2.sequenced(through: drop, reduce, globalPool)\n",
        "        return prediction\n",
        "    }\n",
        "    \n",
        "    \n",
        "\n",
        "}"
      ],
      "execution_count": 0,
      "outputs": []
    },
    {
      "cell_type": "code",
      "metadata": {
        "id": "6iPQvbQ3rQYH",
        "colab_type": "code",
        "colab": {}
      },
      "source": [
        "func testSqueezeNet(){\n",
        "    let x = Tensor<Float>(randomUniform: [10, 32, 32, 3])\n",
        "    let model = SqueezeNet(10)\n",
        "    let out  = try! model(x)\n",
        "    assert(out.shape == [10, 10], \"\\(out.shape)\")\n",
        "}\n",
        "\n",
        "testSqueezeNet()"
      ],
      "execution_count": 0,
      "outputs": []
    },
    {
      "cell_type": "code",
      "metadata": {
        "id": "tUFKeIxcyGR9",
        "colab_type": "code",
        "colab": {}
      },
      "source": [
        ""
      ],
      "execution_count": 0,
      "outputs": []
    }
  ]
}